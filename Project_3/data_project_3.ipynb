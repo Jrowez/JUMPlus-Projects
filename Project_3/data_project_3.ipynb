{
 "cells": [
  {
   "cell_type": "code",
   "execution_count": null,
   "metadata": {},
   "outputs": [],
   "source": [
    "\"\"\" \n",
    "●\tRead csv file named as iris.csv\n",
    "●\tShow first five records\n",
    "●\tShow a dataframe which has sepal width greater than 4\n",
    "●\tShow a dataframe which has petal width greater than 1\n",
    "●\tRetrieve records which have petal width more than 2\n",
    "●\tFigure out the relationship between sepal length and petal length and draw a scatter plot between them and show the relationship between them\n",
    "●\tNow apply species as hue in the same scatter plot for better visibility and understanding\n",
    "\n",
    "Applying Linear Regression\n",
    "1.\tModel 1:\n",
    "a.\tCreate an object named as y which is storing the dataframe of a dependent variable names as 'sepallengthcm'\n",
    "b.\tCreate an object named as x which is storing the dataframe of an independent variable names as 'sepalwidthcm'\n",
    "c.\tDivide the variables into x_train,x_test,y_train,y_test variables using train_test_split method carrying parameters named as x,y and test size should be 30%\n",
    "d.\tShow first five records of all four variables / objects\n",
    "e.\tCreate an object named as lr and assign memory from linearregression() method.\n",
    "f.\tFit both training set into fit method\n",
    "g.\tPredict x_test from predict method and store the result into y_pred object\n",
    "h.\tShow first five records from actual and predicted objects\n",
    "i.\tTry to find out mean_squared_error in prediction using method after passing parameter as y_test and y_pred ,mind the result\n",
    "2.\tModel 2:\n",
    "a.\tCreate an object named as y and store dataframe of sepallengthcm dependent variable\n",
    "b.\tStore 'sepalwidthcm', 'petallengthcm', 'petalwidthcm' dataframe in x as an independent variables\n",
    "c.\tDo train_test_split like you did in model 1 this time test_size is again 30%\n",
    "d.\tFit both train set into fit method of linearregression\n",
    "e.\tPredict x_test and store result into y_pred using predict method\n",
    "f.\tFind out mean_squared_error of actual and predicted test set\n",
    "g.\tDescribe which model is better and why?\n",
    "\n",
    "\n",
    "\n",
    "\"\"\""
   ]
  },
  {
   "cell_type": "code",
   "execution_count": null,
   "metadata": {},
   "outputs": [],
   "source": [
    "\"\"\" Import libraries\"\"\"\n",
    "import pandas as pd\n",
    "import numpy as np\n",
    "from matplotlib import pyplot as plt\n",
    "import seaborn as sns\n",
    "from sklearn.model_selection import train_test_split\n",
    "from sklearn.linear_model import LinearRegression\n",
    "from sklearn.metrics import mean_squared_error, r2_score\n"
   ]
  },
  {
   "cell_type": "code",
   "execution_count": null,
   "metadata": {},
   "outputs": [],
   "source": [
    "\"\"\" Read csv file named as iris.csv \"\"\"\n",
    "df = pd.read_csv('Iris.csv')\n",
    "df"
   ]
  },
  {
   "cell_type": "code",
   "execution_count": null,
   "metadata": {},
   "outputs": [],
   "source": [
    "\"\"\" Show a dataframe which has sepal width greater than 4\"\"\"\n",
    "sepalwidth = df[['Species', 'SepalWidthCm']].loc[(df['SepalWidthCm'] > 4.0)]\n",
    "sepalwidth"
   ]
  },
  {
   "cell_type": "code",
   "execution_count": null,
   "metadata": {},
   "outputs": [],
   "source": [
    "\"\"\" Show a dataframe which has petal width greater than 1\"\"\"\n",
    "petalwidth = df[['Species', 'PetalWidthCm']].loc[(df['PetalWidthCm'] > 1.0)]\n",
    "petalwidth"
   ]
  },
  {
   "cell_type": "code",
   "execution_count": null,
   "metadata": {},
   "outputs": [],
   "source": [
    "\"\"\" Retrieve records which have petal width more than 2\"\"\"\n",
    "petalwidth2 = df[['Species', 'PetalWidthCm']].loc[(df['PetalWidthCm'] > 2.0)]\n",
    "petalwidth2"
   ]
  },
  {
   "cell_type": "code",
   "execution_count": 128,
   "metadata": {},
   "outputs": [
    {
     "data": {
      "text/plain": [
       "0.8717541573048714"
      ]
     },
     "execution_count": 128,
     "metadata": {},
     "output_type": "execute_result"
    },
    {
     "data": {
      "image/png": "[encoded data removed]",
      "text/plain": [
       "<Figure size 640x480 with 1 Axes>"
      ]
     },
     "metadata": {},
     "output_type": "display_data"
    }
   ],
   "source": [
    "\"\"\" Figure out the relationship between sepal length and petal length and draw a scatter plot between them and show the relationship between them\"\"\"\n",
    "corr = np.corrcoef(df['SepalLengthCm'], df['PetalLengthCm'])[0][1]\n",
    "petal_corel = sns.scatterplot(data=df, x='SepalLengthCm', y='PetalLengthCm')\n",
    "corr\n"
   ]
  },
  {
   "cell_type": "code",
   "execution_count": null,
   "metadata": {},
   "outputs": [],
   "source": [
    "\"\"\" Now apply species as hue in the same scatter plot for better visibility and understanding\"\"\"\n",
    "petal_corel_hue = sns.scatterplot(data=df, x='SepalLengthCm', y='PetalLengthCm', hue='Species')"
   ]
  },
  {
   "attachments": {},
   "cell_type": "markdown",
   "metadata": {},
   "source": [
    "Linear Regression Model 1"
   ]
  },
  {
   "cell_type": "code",
   "execution_count": null,
   "metadata": {},
   "outputs": [],
   "source": [
    "\"\"\" a.\tCreate an object named as y which is storing the dataframe of a dependent variable names as 'sepallengthcm'\"\"\"\n",
    "y = df[['SepalLengthCm']]\n",
    "y.head()"
   ]
  },
  {
   "cell_type": "code",
   "execution_count": null,
   "metadata": {},
   "outputs": [],
   "source": [
    "\"\"\" Create an object named as x which is storing the dataframe of an independent variable names as 'sepalwidthcm'\"\"\"\n",
    "x = df[['SepalWidthCm']]\n",
    "x.head()"
   ]
  },
  {
   "cell_type": "code",
   "execution_count": null,
   "metadata": {},
   "outputs": [],
   "source": [
    "\"\"\" Divide the variables into x_train,x_test,y_train,y_test variables using train_test_split method carrying parameters named as x,y and test size should be 30%\"\"\"\n",
    "X_train, X_test, y_train, y_test = train_test_split(x, y, test_size=0.3)"
   ]
  },
  {
   "cell_type": "code",
   "execution_count": null,
   "metadata": {},
   "outputs": [],
   "source": [
    "\"\"\" Show first five records of all four variables / objects\"\"\"\n",
    "print(f\"{X_train.head()} \\n {X_test.head()} \\n {y_train.head()} \\n {y_test.head()}\")"
   ]
  },
  {
   "cell_type": "code",
   "execution_count": null,
   "metadata": {},
   "outputs": [],
   "source": [
    "\"\"\" Create an object named as lr using the linearregression() method.\"\"\"\n",
    "lr = LinearRegression()"
   ]
  },
  {
   "cell_type": "code",
   "execution_count": null,
   "metadata": {},
   "outputs": [],
   "source": [
    "\"\"\" Fit both training set into fit method\"\"\"\n",
    "lr.fit(X_train.values, y_train.values)"
   ]
  },
  {
   "cell_type": "code",
   "execution_count": null,
   "metadata": {},
   "outputs": [],
   "source": [
    "\"\"\" Predict x_test from predict method and store the result into y_pred object\"\"\"\n",
    "y_pred = lr.predict(X_test.values)\n",
    "plt.plot(X_test, y_pred, label='Linear Regression', color='b')\n",
    "plt.scatter(X_test, y_test, label='Actual Test Data', color='g', alpha=.5)\n",
    "plt.legend()\n",
    "plt.show()\n"
   ]
  },
  {
   "cell_type": "code",
   "execution_count": null,
   "metadata": {},
   "outputs": [],
   "source": [
    "\"\"\" Show first five records from actual and predicted objects\"\"\" \n",
    "print(f\"Predicted: \\n {y_pred[:5]} \\n Actual: \\n {y.head()}\")"
   ]
  },
  {
   "cell_type": "code",
   "execution_count": null,
   "metadata": {},
   "outputs": [],
   "source": [
    "\"\"\" Try to find out mean_squared_error in prediction using method after passing parameter as y_test and y_pred ,mind the result\"\"\"\n",
    "mean_squared_error(y_test, y_pred)"
   ]
  },
  {
   "attachments": {},
   "cell_type": "markdown",
   "metadata": {},
   "source": [
    "Linear Regression Model 2"
   ]
  },
  {
   "cell_type": "code",
   "execution_count": null,
   "metadata": {},
   "outputs": [],
   "source": [
    "\"\"\" a.\tCreate an object named as y and store dataframe of sepallengthcm dependent variable\"\"\"\n",
    "y2 = df[['SepalLengthCm']]"
   ]
  },
  {
   "cell_type": "code",
   "execution_count": null,
   "metadata": {},
   "outputs": [],
   "source": [
    "\"\"\" b.  Store 'sepalwidthcm', 'petallengthcm', 'petalwidthcm' dataframe in x as an independent variables\"\"\"\n",
    "x2 = df[['SepalWidthCm', 'PetalLengthCm', 'PetalWidthCm']]"
   ]
  },
  {
   "cell_type": "code",
   "execution_count": null,
   "metadata": {},
   "outputs": [],
   "source": [
    "\"\"\" c.\tDo train_test_split like you did in model 1 this time test_size is again 30%\"\"\"\n",
    "X2_train, X2_test, y2_train, y2_test = train_test_split(x2, y2, test_size=0.3)"
   ]
  },
  {
   "cell_type": "code",
   "execution_count": 119,
   "metadata": {},
   "outputs": [],
   "source": [
    "\"\"\" d.\tFit both train set into fit method of linearregression \"\"\"\n",
    "lr2 = LinearRegression()\n",
    "reg2 = lr2.fit(X2_train, y2_train)"
   ]
  },
  {
   "cell_type": "code",
   "execution_count": 120,
   "metadata": {},
   "outputs": [
    {
     "name": "stderr",
     "output_type": "stream",
     "text": [
      "c:\\Users\\jonat\\anaconda3\\lib\\site-packages\\sklearn\\base.py:420: UserWarning: X does not have valid feature names, but LinearRegression was fitted with feature names\n",
      "  warnings.warn(\n"
     ]
    }
   ],
   "source": [
    "\"\"\" e.\tPredict x_test and store result into y_pred using predict method\"\"\"\n",
    "y2_pred = reg2.predict(X2_test.values)"
   ]
  },
  {
   "cell_type": "code",
   "execution_count": 121,
   "metadata": {},
   "outputs": [
    {
     "data": {
      "text/plain": [
       "0.12693260417427116"
      ]
     },
     "execution_count": 121,
     "metadata": {},
     "output_type": "execute_result"
    }
   ],
   "source": [
    "\"\"\" f.\tFind out mean_squared_error of actual and predicted test set \"\"\"\n",
    "mean_squared_error(y2_test, y2_pred)"
   ]
  },
  {
   "cell_type": "code",
   "execution_count": 122,
   "metadata": {},
   "outputs": [
    {
     "ename": "SyntaxError",
     "evalue": "incomplete input (2749305727.py, line 20)",
     "output_type": "error",
     "traceback": [
      "\u001b[1;36m  Cell \u001b[1;32mIn[122], line 20\u001b[1;36m\u001b[0m\n\u001b[1;33m    \"\"\"\u001b[0m\n\u001b[1;37m    ^\u001b[0m\n\u001b[1;31mSyntaxError\u001b[0m\u001b[1;31m:\u001b[0m incomplete input\n"
     ]
    }
   ],
   "source": [
    "\"\"\" Describe which model is better and why?\"\"\"\n",
    "\n",
    "# mean squared error\n",
    "error1 = mean_squared_error(y_test, y_pred)\n",
    "error2 = mean_squared_error(y2_test, y2_pred)\n",
    "\n",
    "# r2 value\n",
    "\n",
    "test1 = r2_score(y_test, y_pred)\n",
    "test2 = r2_score(y2_test, y2_pred)\n",
    "\n",
    "print(f\"Model 1 Error: {error1} \\n Model 2 Error: {error2}\")\n",
    "print()\n",
    "print(f\"Model 1 r2 Value: {test1} \\n Model 2 r2 Value: {test2}\")\n",
    "\n",
    "\n",
    "# Looks like model 2 performed better.  Model 2 has a much better MSE (closer to 0) than model 1.\n",
    "# Model 2 also has a better r2 value (closer to 1).  It looks like  Model 1 is predicting worse than the mean target values\n",
    "\n",
    "\"\"\"\n"
   ]
  }
 ],
 "metadata": {
  "kernelspec": {
   "display_name": "base",
   "language": "python",
   "name": "python3"
  },
  "language_info": {
   "codemirror_mode": {
    "name": "ipython",
    "version": 3
   },
   "file_extension": ".py",
   "mimetype": "text/x-python",
   "name": "python",
   "nbconvert_exporter": "python",
   "pygments_lexer": "ipython3",
   "version": "3.10.9"
  },
  "orig_nbformat": 4
 },
 "nbformat": 4,
 "nbformat_minor": 2
}
